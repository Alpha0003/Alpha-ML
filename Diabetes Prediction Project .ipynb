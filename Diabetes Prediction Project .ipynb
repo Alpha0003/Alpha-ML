{
 "cells": [
  {
   "cell_type": "code",
   "execution_count": 2,
   "id": "ca1036e5",
   "metadata": {},
   "outputs": [],
   "source": [
    "import numpy as np\n",
    "import pandas as pd\n",
    "import seaborn as sns\n",
    "from numpy import set_printoptions\n",
    "import matplotlib.pyplot as plt\n",
    "plt.style.use('seaborn-whitegrid')\n",
    "\n",
    "from sklearn.preprocessing import LabelEncoder,OneHotEncoder\n",
    "from sklearn.preprocessing import StandardScaler\n",
    "from sklearn.preprocessing import Normalizer\n",
    "from sklearn.preprocessing import MinMaxScaler\n",
    "from sklearn.feature_selection import mutual_info_classif\n",
    "\n",
    "from sklearn.model_selection import train_test_split\n",
    "from sklearn.linear_model import LogisticRegression\n",
    "from sklearn.preprocessing import PolynomialFeatures\n",
    "from sklearn.metrics import classification_report,confusion_matrix\n",
    "\n",
    "from keras.optimizers import SGD\n",
    "from sklearn.linear_model import SGDClassifier\n",
    "from sklearn.model_selection import cross_val_predict\n",
    "from sklearn.model_selection import LeaveOneOut\n",
    "\n",
    "from sklearn.ensemble import RandomForestClassifier\n",
    "from sklearn.model_selection import cross_val_score\n",
    "from sklearn.model_selection import cross_val_predict\n",
    "from sklearn.model_selection import KFold\n",
    "\n",
    "from sklearn.pipeline import Pipeline\n",
    "from sklearn.svm import SVC\n",
    "from sklearn.model_selection import GridSearchCV\n",
    "from scipy.stats import reciprocal\n",
    "from sklearn.model_selection import RandomizedSearchCV\n",
    "from sklearn import metrics\n",
    "from sklearn.metrics import make_scorer\n",
    "from sklearn.metrics import accuracy_score, precision_score, recall_score\n",
    "\n",
    "\n",
    "from sklearn.ensemble import GradientBoostingClassifier\n",
    "from sklearn.ensemble import AdaBoostClassifier\n",
    "from sklearn.ensemble import VotingClassifier\n",
    "from sklearn.metrics import accuracy_score\n",
    "\n",
    "import xgboost\n",
    "import lightgbm as lgb\n",
    "from sklearn.metrics import roc_auc_score\n",
    "\n",
    "import keras\n",
    "import tensorflow as tf\n",
    "from tensorflow import keras\n",
    "from keras.models import Sequential\n",
    "from keras.layers import Dropout, Activation, Dense, BatchNormalization\n",
    "from keras.optimizers import RMSprop\n",
    "\n",
    "import warnings\n",
    "warnings.filterwarnings(\"ignore\")"
   ]
  },
  {
   "cell_type": "code",
   "execution_count": 3,
   "id": "9abe331d",
   "metadata": {},
   "outputs": [],
   "source": [
    "df1 = pd.read_csv('Dataset of Diabetes .csv')"
   ]
  },
  {
   "cell_type": "code",
   "execution_count": 4,
   "id": "fb0151ee",
   "metadata": {},
   "outputs": [
    {
     "data": {
      "text/html": [
       "<div>\n",
       "<style scoped>\n",
       "    .dataframe tbody tr th:only-of-type {\n",
       "        vertical-align: middle;\n",
       "    }\n",
       "\n",
       "    .dataframe tbody tr th {\n",
       "        vertical-align: top;\n",
       "    }\n",
       "\n",
       "    .dataframe thead th {\n",
       "        text-align: right;\n",
       "    }\n",
       "</style>\n",
       "<table border=\"1\" class=\"dataframe\">\n",
       "  <thead>\n",
       "    <tr style=\"text-align: right;\">\n",
       "      <th></th>\n",
       "      <th>ID</th>\n",
       "      <th>No_Pation</th>\n",
       "      <th>Gender</th>\n",
       "      <th>AGE</th>\n",
       "      <th>Urea</th>\n",
       "      <th>Cr</th>\n",
       "      <th>HbA1c</th>\n",
       "      <th>Chol</th>\n",
       "      <th>TG</th>\n",
       "      <th>HDL</th>\n",
       "      <th>LDL</th>\n",
       "      <th>VLDL</th>\n",
       "      <th>BMI</th>\n",
       "      <th>CLASS</th>\n",
       "    </tr>\n",
       "  </thead>\n",
       "  <tbody>\n",
       "    <tr>\n",
       "      <th>0</th>\n",
       "      <td>502</td>\n",
       "      <td>17975</td>\n",
       "      <td>F</td>\n",
       "      <td>50</td>\n",
       "      <td>4.7</td>\n",
       "      <td>46</td>\n",
       "      <td>4.9</td>\n",
       "      <td>4.2</td>\n",
       "      <td>0.9</td>\n",
       "      <td>2.4</td>\n",
       "      <td>1.4</td>\n",
       "      <td>0.5</td>\n",
       "      <td>24.0</td>\n",
       "      <td>N</td>\n",
       "    </tr>\n",
       "    <tr>\n",
       "      <th>1</th>\n",
       "      <td>735</td>\n",
       "      <td>34221</td>\n",
       "      <td>M</td>\n",
       "      <td>26</td>\n",
       "      <td>4.5</td>\n",
       "      <td>62</td>\n",
       "      <td>4.9</td>\n",
       "      <td>3.7</td>\n",
       "      <td>1.4</td>\n",
       "      <td>1.1</td>\n",
       "      <td>2.1</td>\n",
       "      <td>0.6</td>\n",
       "      <td>23.0</td>\n",
       "      <td>N</td>\n",
       "    </tr>\n",
       "    <tr>\n",
       "      <th>2</th>\n",
       "      <td>420</td>\n",
       "      <td>47975</td>\n",
       "      <td>F</td>\n",
       "      <td>50</td>\n",
       "      <td>4.7</td>\n",
       "      <td>46</td>\n",
       "      <td>4.9</td>\n",
       "      <td>4.2</td>\n",
       "      <td>0.9</td>\n",
       "      <td>2.4</td>\n",
       "      <td>1.4</td>\n",
       "      <td>0.5</td>\n",
       "      <td>24.0</td>\n",
       "      <td>N</td>\n",
       "    </tr>\n",
       "  </tbody>\n",
       "</table>\n",
       "</div>"
      ],
      "text/plain": [
       "    ID  No_Pation Gender  AGE  Urea  Cr  HbA1c  Chol   TG  HDL  LDL  VLDL  \\\n",
       "0  502      17975      F   50   4.7  46    4.9   4.2  0.9  2.4  1.4   0.5   \n",
       "1  735      34221      M   26   4.5  62    4.9   3.7  1.4  1.1  2.1   0.6   \n",
       "2  420      47975      F   50   4.7  46    4.9   4.2  0.9  2.4  1.4   0.5   \n",
       "\n",
       "    BMI CLASS  \n",
       "0  24.0     N  \n",
       "1  23.0     N  \n",
       "2  24.0     N  "
      ]
     },
     "execution_count": 4,
     "metadata": {},
     "output_type": "execute_result"
    }
   ],
   "source": [
    "df1.head(3)"
   ]
  },
  {
   "cell_type": "code",
   "execution_count": 4,
   "id": "7237b99f",
   "metadata": {},
   "outputs": [
    {
     "data": {
      "text/plain": [
       "(1000, 14)"
      ]
     },
     "execution_count": 4,
     "metadata": {},
     "output_type": "execute_result"
    }
   ],
   "source": [
    "df1.shape"
   ]
  },
  {
   "cell_type": "code",
   "execution_count": 5,
   "id": "a2e058d5",
   "metadata": {},
   "outputs": [
    {
     "name": "stdout",
     "output_type": "stream",
     "text": [
      "<class 'pandas.core.frame.DataFrame'>\n",
      "RangeIndex: 1000 entries, 0 to 999\n",
      "Data columns (total 14 columns):\n",
      " #   Column     Non-Null Count  Dtype  \n",
      "---  ------     --------------  -----  \n",
      " 0   ID         1000 non-null   int64  \n",
      " 1   No_Pation  1000 non-null   int64  \n",
      " 2   Gender     1000 non-null   object \n",
      " 3   AGE        1000 non-null   int64  \n",
      " 4   Urea       1000 non-null   float64\n",
      " 5   Cr         1000 non-null   int64  \n",
      " 6   HbA1c      1000 non-null   float64\n",
      " 7   Chol       1000 non-null   float64\n",
      " 8   TG         1000 non-null   float64\n",
      " 9   HDL        1000 non-null   float64\n",
      " 10  LDL        1000 non-null   float64\n",
      " 11  VLDL       1000 non-null   float64\n",
      " 12  BMI        1000 non-null   float64\n",
      " 13  CLASS      1000 non-null   object \n",
      "dtypes: float64(8), int64(4), object(2)\n",
      "memory usage: 109.5+ KB\n"
     ]
    }
   ],
   "source": [
    "df1.info()"
   ]
  },
  {
   "cell_type": "code",
   "execution_count": 6,
   "id": "5ff53d0a",
   "metadata": {},
   "outputs": [
    {
     "name": "stdout",
     "output_type": "stream",
     "text": [
      "M    565\n",
      "F    434\n",
      "f      1\n",
      "Name: Gender, dtype: int64\n",
      "Y     840\n",
      "N     102\n",
      "P      53\n",
      "Y       4\n",
      "N       1\n",
      "Name: CLASS, dtype: int64\n"
     ]
    }
   ],
   "source": [
    "print(df1['Gender'].value_counts())\n",
    "print(df1['CLASS'].value_counts())"
   ]
  },
  {
   "cell_type": "markdown",
   "id": "3067f0b7",
   "metadata": {},
   "source": [
    "# Dealing with Categorical Features\n",
    "\n",
    "    Since our dataset has an object feature 'Gender', i would be encoding it to a numerical feature and then can care of the one instance misinterpeted by 'f' instead of the upper case 'F' as in Female.\n",
    "\n",
    "    I will also be taking care of 'CLASS' feature as it is categorical, i would be encoding it to a numerical feature, without the use of a label encoder tho, i will be doing it with just the simple .replace( function"
   ]
  },
  {
   "cell_type": "code",
   "execution_count": 7,
   "id": "2f4f2217",
   "metadata": {},
   "outputs": [],
   "source": [
    "df1.iloc[:,2] = df1['Gender'].replace(('F', 'f', 'M'), (0,0,1))\n",
    "df1.iloc[:,13] = df1['CLASS'].replace(('N', 'N ', 'P', 'Y', 'Y '), (0, 0, 1, 2, 2))"
   ]
  },
  {
   "cell_type": "code",
   "execution_count": 8,
   "id": "ec7c9dce",
   "metadata": {},
   "outputs": [
    {
     "data": {
      "text/html": [
       "<div>\n",
       "<style scoped>\n",
       "    .dataframe tbody tr th:only-of-type {\n",
       "        vertical-align: middle;\n",
       "    }\n",
       "\n",
       "    .dataframe tbody tr th {\n",
       "        vertical-align: top;\n",
       "    }\n",
       "\n",
       "    .dataframe thead th {\n",
       "        text-align: right;\n",
       "    }\n",
       "</style>\n",
       "<table border=\"1\" class=\"dataframe\">\n",
       "  <thead>\n",
       "    <tr style=\"text-align: right;\">\n",
       "      <th></th>\n",
       "      <th>ID</th>\n",
       "      <th>No_Pation</th>\n",
       "      <th>Gender</th>\n",
       "      <th>AGE</th>\n",
       "      <th>Urea</th>\n",
       "      <th>Cr</th>\n",
       "      <th>HbA1c</th>\n",
       "      <th>Chol</th>\n",
       "      <th>TG</th>\n",
       "      <th>HDL</th>\n",
       "      <th>LDL</th>\n",
       "      <th>VLDL</th>\n",
       "      <th>BMI</th>\n",
       "      <th>CLASS</th>\n",
       "    </tr>\n",
       "  </thead>\n",
       "  <tbody>\n",
       "    <tr>\n",
       "      <th>count</th>\n",
       "      <td>1000.000000</td>\n",
       "      <td>1.000000e+03</td>\n",
       "      <td>1000.000000</td>\n",
       "      <td>1000.000000</td>\n",
       "      <td>1000.000000</td>\n",
       "      <td>1000.000000</td>\n",
       "      <td>1000.000000</td>\n",
       "      <td>1000.000000</td>\n",
       "      <td>1000.000000</td>\n",
       "      <td>1000.000000</td>\n",
       "      <td>1000.000000</td>\n",
       "      <td>1000.000000</td>\n",
       "      <td>1000.000000</td>\n",
       "      <td>1000.000000</td>\n",
       "    </tr>\n",
       "    <tr>\n",
       "      <th>mean</th>\n",
       "      <td>340.500000</td>\n",
       "      <td>2.705514e+05</td>\n",
       "      <td>0.565000</td>\n",
       "      <td>53.528000</td>\n",
       "      <td>5.124743</td>\n",
       "      <td>68.943000</td>\n",
       "      <td>8.281160</td>\n",
       "      <td>4.862820</td>\n",
       "      <td>2.349610</td>\n",
       "      <td>1.204750</td>\n",
       "      <td>2.609790</td>\n",
       "      <td>1.854700</td>\n",
       "      <td>29.578020</td>\n",
       "      <td>1.741000</td>\n",
       "    </tr>\n",
       "    <tr>\n",
       "      <th>std</th>\n",
       "      <td>240.397673</td>\n",
       "      <td>3.380758e+06</td>\n",
       "      <td>0.496005</td>\n",
       "      <td>8.799241</td>\n",
       "      <td>2.935165</td>\n",
       "      <td>59.984747</td>\n",
       "      <td>2.534003</td>\n",
       "      <td>1.301738</td>\n",
       "      <td>1.401176</td>\n",
       "      <td>0.660414</td>\n",
       "      <td>1.115102</td>\n",
       "      <td>3.663599</td>\n",
       "      <td>4.962388</td>\n",
       "      <td>0.631124</td>\n",
       "    </tr>\n",
       "    <tr>\n",
       "      <th>min</th>\n",
       "      <td>1.000000</td>\n",
       "      <td>1.230000e+02</td>\n",
       "      <td>0.000000</td>\n",
       "      <td>20.000000</td>\n",
       "      <td>0.500000</td>\n",
       "      <td>6.000000</td>\n",
       "      <td>0.900000</td>\n",
       "      <td>0.000000</td>\n",
       "      <td>0.300000</td>\n",
       "      <td>0.200000</td>\n",
       "      <td>0.300000</td>\n",
       "      <td>0.100000</td>\n",
       "      <td>19.000000</td>\n",
       "      <td>0.000000</td>\n",
       "    </tr>\n",
       "    <tr>\n",
       "      <th>25%</th>\n",
       "      <td>125.750000</td>\n",
       "      <td>2.406375e+04</td>\n",
       "      <td>0.000000</td>\n",
       "      <td>51.000000</td>\n",
       "      <td>3.700000</td>\n",
       "      <td>48.000000</td>\n",
       "      <td>6.500000</td>\n",
       "      <td>4.000000</td>\n",
       "      <td>1.500000</td>\n",
       "      <td>0.900000</td>\n",
       "      <td>1.800000</td>\n",
       "      <td>0.700000</td>\n",
       "      <td>26.000000</td>\n",
       "      <td>2.000000</td>\n",
       "    </tr>\n",
       "    <tr>\n",
       "      <th>50%</th>\n",
       "      <td>300.500000</td>\n",
       "      <td>3.439550e+04</td>\n",
       "      <td>1.000000</td>\n",
       "      <td>55.000000</td>\n",
       "      <td>4.600000</td>\n",
       "      <td>60.000000</td>\n",
       "      <td>8.000000</td>\n",
       "      <td>4.800000</td>\n",
       "      <td>2.000000</td>\n",
       "      <td>1.100000</td>\n",
       "      <td>2.500000</td>\n",
       "      <td>0.900000</td>\n",
       "      <td>30.000000</td>\n",
       "      <td>2.000000</td>\n",
       "    </tr>\n",
       "    <tr>\n",
       "      <th>75%</th>\n",
       "      <td>550.250000</td>\n",
       "      <td>4.538425e+04</td>\n",
       "      <td>1.000000</td>\n",
       "      <td>59.000000</td>\n",
       "      <td>5.700000</td>\n",
       "      <td>73.000000</td>\n",
       "      <td>10.200000</td>\n",
       "      <td>5.600000</td>\n",
       "      <td>2.900000</td>\n",
       "      <td>1.300000</td>\n",
       "      <td>3.300000</td>\n",
       "      <td>1.500000</td>\n",
       "      <td>33.000000</td>\n",
       "      <td>2.000000</td>\n",
       "    </tr>\n",
       "    <tr>\n",
       "      <th>max</th>\n",
       "      <td>800.000000</td>\n",
       "      <td>7.543566e+07</td>\n",
       "      <td>1.000000</td>\n",
       "      <td>79.000000</td>\n",
       "      <td>38.900000</td>\n",
       "      <td>800.000000</td>\n",
       "      <td>16.000000</td>\n",
       "      <td>10.300000</td>\n",
       "      <td>13.800000</td>\n",
       "      <td>9.900000</td>\n",
       "      <td>9.900000</td>\n",
       "      <td>35.000000</td>\n",
       "      <td>47.750000</td>\n",
       "      <td>2.000000</td>\n",
       "    </tr>\n",
       "  </tbody>\n",
       "</table>\n",
       "</div>"
      ],
      "text/plain": [
       "                ID     No_Pation       Gender          AGE         Urea  \\\n",
       "count  1000.000000  1.000000e+03  1000.000000  1000.000000  1000.000000   \n",
       "mean    340.500000  2.705514e+05     0.565000    53.528000     5.124743   \n",
       "std     240.397673  3.380758e+06     0.496005     8.799241     2.935165   \n",
       "min       1.000000  1.230000e+02     0.000000    20.000000     0.500000   \n",
       "25%     125.750000  2.406375e+04     0.000000    51.000000     3.700000   \n",
       "50%     300.500000  3.439550e+04     1.000000    55.000000     4.600000   \n",
       "75%     550.250000  4.538425e+04     1.000000    59.000000     5.700000   \n",
       "max     800.000000  7.543566e+07     1.000000    79.000000    38.900000   \n",
       "\n",
       "                Cr        HbA1c         Chol           TG          HDL  \\\n",
       "count  1000.000000  1000.000000  1000.000000  1000.000000  1000.000000   \n",
       "mean     68.943000     8.281160     4.862820     2.349610     1.204750   \n",
       "std      59.984747     2.534003     1.301738     1.401176     0.660414   \n",
       "min       6.000000     0.900000     0.000000     0.300000     0.200000   \n",
       "25%      48.000000     6.500000     4.000000     1.500000     0.900000   \n",
       "50%      60.000000     8.000000     4.800000     2.000000     1.100000   \n",
       "75%      73.000000    10.200000     5.600000     2.900000     1.300000   \n",
       "max     800.000000    16.000000    10.300000    13.800000     9.900000   \n",
       "\n",
       "               LDL         VLDL          BMI        CLASS  \n",
       "count  1000.000000  1000.000000  1000.000000  1000.000000  \n",
       "mean      2.609790     1.854700    29.578020     1.741000  \n",
       "std       1.115102     3.663599     4.962388     0.631124  \n",
       "min       0.300000     0.100000    19.000000     0.000000  \n",
       "25%       1.800000     0.700000    26.000000     2.000000  \n",
       "50%       2.500000     0.900000    30.000000     2.000000  \n",
       "75%       3.300000     1.500000    33.000000     2.000000  \n",
       "max       9.900000    35.000000    47.750000     2.000000  "
      ]
     },
     "execution_count": 8,
     "metadata": {},
     "output_type": "execute_result"
    }
   ],
   "source": [
    "df1.describe()"
   ]
  },
  {
   "cell_type": "code",
   "execution_count": 9,
   "id": "9ba8e688",
   "metadata": {},
   "outputs": [
    {
     "data": {
      "text/plain": [
       "ID           0\n",
       "No_Pation    0\n",
       "Gender       0\n",
       "AGE          0\n",
       "Urea         0\n",
       "Cr           0\n",
       "HbA1c        0\n",
       "Chol         0\n",
       "TG           0\n",
       "HDL          0\n",
       "LDL          0\n",
       "VLDL         0\n",
       "BMI          0\n",
       "CLASS        0\n",
       "dtype: int64"
      ]
     },
     "execution_count": 9,
     "metadata": {},
     "output_type": "execute_result"
    }
   ],
   "source": [
    "df1.isnull().sum()"
   ]
  },
  {
   "cell_type": "code",
   "execution_count": 10,
   "id": "9557d57b",
   "metadata": {},
   "outputs": [
    {
     "data": {
      "text/plain": [
       "0"
      ]
     },
     "execution_count": 10,
     "metadata": {},
     "output_type": "execute_result"
    }
   ],
   "source": [
    "df1.duplicated().sum()"
   ]
  },
  {
   "cell_type": "code",
   "execution_count": 11,
   "id": "0344c783",
   "metadata": {},
   "outputs": [
    {
     "data": {
      "text/plain": [
       "Index(['ID', 'No_Pation', 'Gender', 'AGE', 'Urea', 'Cr', 'HbA1c', 'Chol', 'TG',\n",
       "       'HDL', 'LDL', 'VLDL', 'BMI', 'CLASS'],\n",
       "      dtype='object')"
      ]
     },
     "execution_count": 11,
     "metadata": {},
     "output_type": "execute_result"
    }
   ],
   "source": [
    "df1.columns"
   ]
  },
  {
   "cell_type": "code",
   "execution_count": null,
   "id": "918fb79f",
   "metadata": {},
   "outputs": [],
   "source": []
  },
  {
   "cell_type": "code",
   "execution_count": 12,
   "id": "dc788420",
   "metadata": {},
   "outputs": [],
   "source": [
    "f =df1.groupby('CLASS')['ID', 'No_Pation', 'Gender', 'AGE', 'Urea', 'Cr', 'HbA1c', 'Chol', 'TG',\n",
    "       'HDL', 'LDL', 'VLDL', 'BMI']\n"
   ]
  },
  {
   "cell_type": "code",
   "execution_count": 13,
   "id": "fba987eb",
   "metadata": {},
   "outputs": [
    {
     "data": {
      "text/html": [
       "<div>\n",
       "<style scoped>\n",
       "    .dataframe tbody tr th:only-of-type {\n",
       "        vertical-align: middle;\n",
       "    }\n",
       "\n",
       "    .dataframe tbody tr th {\n",
       "        vertical-align: top;\n",
       "    }\n",
       "\n",
       "    .dataframe thead th {\n",
       "        text-align: right;\n",
       "    }\n",
       "</style>\n",
       "<table border=\"1\" class=\"dataframe\">\n",
       "  <thead>\n",
       "    <tr style=\"text-align: right;\">\n",
       "      <th></th>\n",
       "      <th>ID</th>\n",
       "      <th>No_Pation</th>\n",
       "      <th>Gender</th>\n",
       "      <th>AGE</th>\n",
       "      <th>Urea</th>\n",
       "      <th>Cr</th>\n",
       "      <th>HbA1c</th>\n",
       "      <th>Chol</th>\n",
       "      <th>TG</th>\n",
       "      <th>HDL</th>\n",
       "      <th>LDL</th>\n",
       "      <th>VLDL</th>\n",
       "      <th>BMI</th>\n",
       "    </tr>\n",
       "    <tr>\n",
       "      <th>CLASS</th>\n",
       "      <th></th>\n",
       "      <th></th>\n",
       "      <th></th>\n",
       "      <th></th>\n",
       "      <th></th>\n",
       "      <th></th>\n",
       "      <th></th>\n",
       "      <th></th>\n",
       "      <th></th>\n",
       "      <th></th>\n",
       "      <th></th>\n",
       "      <th></th>\n",
       "      <th></th>\n",
       "    </tr>\n",
       "  </thead>\n",
       "  <tbody>\n",
       "    <tr>\n",
       "      <th>0</th>\n",
       "      <td>368.252427</td>\n",
       "      <td>815851.990291</td>\n",
       "      <td>0.378641</td>\n",
       "      <td>44.233010</td>\n",
       "      <td>4.680583</td>\n",
       "      <td>62.796117</td>\n",
       "      <td>4.560194</td>\n",
       "      <td>4.268932</td>\n",
       "      <td>1.625243</td>\n",
       "      <td>1.227184</td>\n",
       "      <td>2.625243</td>\n",
       "      <td>0.943689</td>\n",
       "      <td>22.374757</td>\n",
       "    </tr>\n",
       "    <tr>\n",
       "      <th>1</th>\n",
       "      <td>396.056604</td>\n",
       "      <td>64299.037736</td>\n",
       "      <td>0.679245</td>\n",
       "      <td>43.283019</td>\n",
       "      <td>4.511321</td>\n",
       "      <td>66.075472</td>\n",
       "      <td>6.003774</td>\n",
       "      <td>4.579245</td>\n",
       "      <td>2.126415</td>\n",
       "      <td>1.127358</td>\n",
       "      <td>2.493396</td>\n",
       "      <td>0.983019</td>\n",
       "      <td>23.933962</td>\n",
       "    </tr>\n",
       "    <tr>\n",
       "      <th>2</th>\n",
       "      <td>333.624408</td>\n",
       "      <td>216955.928910</td>\n",
       "      <td>0.580569</td>\n",
       "      <td>55.305687</td>\n",
       "      <td>5.217468</td>\n",
       "      <td>69.873223</td>\n",
       "      <td>8.878270</td>\n",
       "      <td>4.953104</td>\n",
       "      <td>2.452026</td>\n",
       "      <td>1.206872</td>\n",
       "      <td>2.615213</td>\n",
       "      <td>2.020616</td>\n",
       "      <td>30.811517</td>\n",
       "    </tr>\n",
       "  </tbody>\n",
       "</table>\n",
       "</div>"
      ],
      "text/plain": [
       "               ID      No_Pation    Gender        AGE      Urea         Cr  \\\n",
       "CLASS                                                                        \n",
       "0      368.252427  815851.990291  0.378641  44.233010  4.680583  62.796117   \n",
       "1      396.056604   64299.037736  0.679245  43.283019  4.511321  66.075472   \n",
       "2      333.624408  216955.928910  0.580569  55.305687  5.217468  69.873223   \n",
       "\n",
       "          HbA1c      Chol        TG       HDL       LDL      VLDL        BMI  \n",
       "CLASS                                                                         \n",
       "0      4.560194  4.268932  1.625243  1.227184  2.625243  0.943689  22.374757  \n",
       "1      6.003774  4.579245  2.126415  1.127358  2.493396  0.983019  23.933962  \n",
       "2      8.878270  4.953104  2.452026  1.206872  2.615213  2.020616  30.811517  "
      ]
     },
     "execution_count": 13,
     "metadata": {},
     "output_type": "execute_result"
    }
   ],
   "source": [
    "f.mean()"
   ]
  },
  {
   "cell_type": "code",
   "execution_count": 14,
   "id": "5fc32083",
   "metadata": {},
   "outputs": [],
   "source": [
    "cols = ['No_Pation', 'Gender', 'Urea', 'Cr', 'HbA1c', 'Chol', 'TG', 'VLDL', 'BMI', 'CLASS']"
   ]
  },
  {
   "cell_type": "code",
   "execution_count": 15,
   "id": "af849e2c",
   "metadata": {},
   "outputs": [
    {
     "data": {
      "text/plain": [
       "\"sns.pairplot(df1[cols], hue = 'CLASS', palette='Dark2')\""
      ]
     },
     "execution_count": 15,
     "metadata": {},
     "output_type": "execute_result"
    }
   ],
   "source": [
    "'''sns.pairplot(df1[cols], hue = 'CLASS', palette='Dark2')'''"
   ]
  },
  {
   "cell_type": "code",
   "execution_count": 16,
   "id": "fdb5c971",
   "metadata": {},
   "outputs": [
    {
     "data": {
      "text/plain": [
       "\"plt.scatter(df1['TG'], df1['BMI'])\""
      ]
     },
     "execution_count": 16,
     "metadata": {},
     "output_type": "execute_result"
    }
   ],
   "source": [
    "'''plt.scatter(df1['TG'], df1['BMI'])'''"
   ]
  },
  {
   "cell_type": "code",
   "execution_count": 26,
   "id": "30254c05",
   "metadata": {},
   "outputs": [
    {
     "data": {
      "text/plain": [
       "<AxesSubplot:xlabel='CLASS', ylabel='count'>"
      ]
     },
     "execution_count": 26,
     "metadata": {},
     "output_type": "execute_result"
    },
    {
     "data": {
      "image/png": "[encoded data removed]",
      "text/plain": [
       "<Figure size 432x288 with 1 Axes>"
      ]
     },
     "metadata": {},
     "output_type": "display_data"
    }
   ],
   "source": [
    "sns.countplot(df1['CLASS'])"
   ]
  },
  {
   "cell_type": "code",
   "execution_count": 38,
   "id": "19e1821d",
   "metadata": {},
   "outputs": [
    {
     "name": "stdout",
     "output_type": "stream",
     "text": [
      "      ID\n",
      "76   0.2\n",
      "108  0.2\n",
      "57   0.2\n",
      "26   0.2\n",
      "69   0.2\n",
      "..   ...\n",
      "353  0.1\n",
      "356  0.1\n",
      "488  0.1\n",
      "508  0.1\n",
      "248  0.1\n",
      "\n",
      "[800 rows x 1 columns]\n",
      "        No_Pation\n",
      "454316        1.9\n",
      "856           0.2\n",
      "87654         0.2\n",
      "71741         0.2\n",
      "34290         0.2\n",
      "...           ...\n",
      "34342         0.1\n",
      "3275          0.1\n",
      "34343         0.1\n",
      "23973         0.1\n",
      "24054         0.1\n",
      "\n",
      "[961 rows x 1 columns]\n",
      "   Gender\n",
      "1    56.5\n",
      "0    43.5\n",
      "     AGE\n",
      "55  18.1\n",
      "60   8.8\n",
      "54   8.4\n",
      "51   5.1\n",
      "61   4.9\n",
      "56   4.8\n",
      "52   4.4\n",
      "50   4.3\n",
      "59   3.2\n",
      "57   3.1\n",
      "58   3.0\n",
      "63   2.9\n",
      "53   2.5\n",
      "30   2.0\n",
      "49   1.9\n",
      "45   1.6\n",
      "33   1.6\n",
      "40   1.3\n",
      "44   1.3\n",
      "35   1.1\n",
      "66   1.1\n",
      "47   1.0\n",
      "42   1.0\n",
      "48   1.0\n",
      "31   0.9\n",
      "39   0.9\n",
      "68   0.8\n",
      "62   0.8\n",
      "73   0.8\n",
      "43   0.8\n",
      "64   0.7\n",
      "69   0.6\n",
      "67   0.6\n",
      "38   0.6\n",
      "41   0.5\n",
      "34   0.5\n",
      "36   0.4\n",
      "76   0.4\n",
      "77   0.4\n",
      "28   0.3\n",
      "46   0.3\n",
      "26   0.2\n",
      "70   0.2\n",
      "65   0.2\n",
      "75   0.2\n",
      "25   0.1\n",
      "79   0.1\n",
      "32   0.1\n",
      "20   0.1\n",
      "71   0.1\n",
      "        Urea\n",
      "4.300    4.0\n",
      "4.000    3.7\n",
      "5.000    3.6\n",
      "4.800    3.4\n",
      "4.100    3.3\n",
      "...      ...\n",
      "13.300   0.1\n",
      "13.500   0.1\n",
      "6.833    0.1\n",
      "0.500    0.1\n",
      "8.900    0.1\n",
      "\n",
      "[110 rows x 1 columns]\n",
      "      Cr\n",
      "56   5.5\n",
      "72   3.2\n",
      "55   3.0\n",
      "63   2.7\n",
      "53   2.7\n",
      "..   ...\n",
      "6    0.1\n",
      "130  0.1\n",
      "112  0.1\n",
      "145  0.1\n",
      "107  0.1\n",
      "\n",
      "[113 rows x 1 columns]\n",
      "       HbA1c\n",
      "8.00     3.4\n",
      "9.00     3.2\n",
      "7.00     3.2\n",
      "4.00     3.0\n",
      "6.80     3.0\n",
      "...      ...\n",
      "4.70     0.1\n",
      "12.90    0.1\n",
      "2.00     0.1\n",
      "6.60     0.1\n",
      "9.96     0.1\n",
      "\n",
      "[111 rows x 1 columns]\n",
      "       Chol\n",
      "4.40    5.5\n",
      "4.90    4.6\n",
      "4.80    4.0\n",
      "4.00    3.8\n",
      "5.30    3.8\n",
      "...     ...\n",
      "9.10    0.1\n",
      "10.30   0.1\n",
      "9.30    0.1\n",
      "0.00    0.1\n",
      "6.12    0.1\n",
      "\n",
      "[77 rows x 1 columns]\n",
      "       TG\n",
      "2.1   6.5\n",
      "2.0   6.1\n",
      "1.3   5.2\n",
      "1.5   5.1\n",
      "1.7   4.4\n",
      "...   ...\n",
      "12.7  0.1\n",
      "0.5   0.1\n",
      "6.3   0.1\n",
      "13.8  0.1\n",
      "5.7   0.1\n",
      "\n",
      "[69 rows x 1 columns]\n",
      "       HDL\n",
      "1.10  14.7\n",
      "0.90  14.1\n",
      "1.00  13.5\n",
      "0.80   8.4\n",
      "1.30   8.0\n",
      "1.20   7.1\n",
      "0.70   5.7\n",
      "1.40   5.4\n",
      "1.60   4.0\n",
      "1.80   3.1\n",
      "0.60   2.4\n",
      "1.70   2.2\n",
      "1.50   2.0\n",
      "1.90   1.3\n",
      "2.40   0.8\n",
      "0.50   0.7\n",
      "0.40   0.7\n",
      "2.30   0.7\n",
      "2.00   0.4\n",
      "2.50   0.4\n",
      "1.35   0.3\n",
      "3.20   0.3\n",
      "3.10   0.3\n",
      "0.75   0.3\n",
      "2.10   0.3\n",
      "3.60   0.2\n",
      "1.95   0.2\n",
      "6.60   0.2\n",
      "1.08   0.2\n",
      "1.45   0.2\n",
      "1.03   0.2\n",
      "3.80   0.1\n",
      "9.00   0.1\n",
      "5.00   0.1\n",
      "9.90   0.1\n",
      "1.73   0.1\n",
      "1.85   0.1\n",
      "3.40   0.1\n",
      "0.20   0.1\n",
      "2.80   0.1\n",
      "2.60   0.1\n",
      "3.90   0.1\n",
      "1.05   0.1\n",
      "4.00   0.1\n",
      "1.75   0.1\n",
      "0.95   0.1\n",
      "6.30   0.1\n",
      "2.20   0.1\n",
      "      LDL\n",
      "2.50  8.7\n",
      "2.00  5.5\n",
      "1.70  4.0\n",
      "1.40  3.7\n",
      "3.10  3.7\n",
      "...   ...\n",
      "2.04  0.1\n",
      "6.40  0.1\n",
      "0.96  0.1\n",
      "0.30  0.1\n",
      "5.30  0.1\n",
      "\n",
      "[65 rows x 1 columns]\n",
      "      VLDL\n",
      "0.9   13.2\n",
      "0.7    9.4\n",
      "0.6    8.0\n",
      "0.8    7.6\n",
      "1.0    7.1\n",
      "1.5    6.3\n",
      "0.5    5.5\n",
      "1.1    5.4\n",
      "1.3    4.4\n",
      "0.4    3.7\n",
      "2.0    3.6\n",
      "1.4    3.4\n",
      "1.2    3.3\n",
      "1.7    2.6\n",
      "0.3    2.6\n",
      "1.6    2.1\n",
      "1.8    1.1\n",
      "14.0   0.8\n",
      "1.9    0.8\n",
      "12.7   0.6\n",
      "2.2    0.5\n",
      "0.2    0.5\n",
      "3.1    0.5\n",
      "8.1    0.5\n",
      "2.4    0.4\n",
      "10.4   0.4\n",
      "13.1   0.4\n",
      "2.1    0.4\n",
      "15.4   0.3\n",
      "2.6    0.3\n",
      "3.5    0.2\n",
      "2.8    0.2\n",
      "2.5    0.2\n",
      "11.3   0.2\n",
      "3.0    0.2\n",
      "22.2   0.2\n",
      "0.1    0.2\n",
      "7.2    0.2\n",
      "31.8   0.2\n",
      "14.5   0.2\n",
      "10.0   0.2\n",
      "12.2   0.2\n",
      "9.5    0.2\n",
      "5.0    0.1\n",
      "9.0    0.1\n",
      "3.4    0.1\n",
      "5.8    0.1\n",
      "27.2   0.1\n",
      "24.5   0.1\n",
      "6.3    0.1\n",
      "7.0    0.1\n",
      "22.7   0.1\n",
      "18.1   0.1\n",
      "19.5   0.1\n",
      "33.6   0.1\n",
      "16.3   0.1\n",
      "4.1    0.1\n",
      "31.0   0.1\n",
      "35.0   0.1\n",
      "5.2    0.1\n",
      "       BMI\n",
      "30.0  11.4\n",
      "33.0  10.1\n",
      "29.0   7.2\n",
      "26.0   6.4\n",
      "24.0   5.8\n",
      "...    ...\n",
      "34.5   0.1\n",
      "22.5   0.1\n",
      "19.5   0.1\n",
      "24.6   0.1\n",
      "25.6   0.1\n",
      "\n",
      "[64 rows x 1 columns]\n",
      "   CLASS\n",
      "2   84.4\n",
      "0   10.3\n",
      "1    5.3\n"
     ]
    }
   ],
   "source": [
    "for col in df1.columns.to_list():\n",
    "    f= pd.DataFrame(df1[col].value_counts(normalize= True)*100.0)\n",
    "    print(pd.DataFrame(f))"
   ]
  },
  {
   "cell_type": "code",
   "execution_count": 21,
   "id": "80a55314",
   "metadata": {},
   "outputs": [
    {
     "data": {
      "image/png": "[encoded data removed]",
      "text/plain": [
       "<Figure size 1440x864 with 12 Axes>"
      ]
     },
     "metadata": {},
     "output_type": "display_data"
    }
   ],
   "source": [
    "df1.hist(bins = 100, figsize=(20,12))\n",
    "plt.show()"
   ]
  },
  {
   "cell_type": "code",
   "execution_count": null,
   "id": "0c4800c8",
   "metadata": {},
   "outputs": [],
   "source": []
  },
  {
   "cell_type": "code",
   "execution_count": null,
   "id": "0458338e",
   "metadata": {},
   "outputs": [],
   "source": []
  },
  {
   "cell_type": "markdown",
   "id": "bf2a29da",
   "metadata": {},
   "source": [
    "## To check the Distribution of each feature we use the density plot"
   ]
  },
  {
   "cell_type": "code",
   "execution_count": 17,
   "id": "ee0745fd",
   "metadata": {},
   "outputs": [
    {
     "data": {
      "text/plain": [
       "\"for col in df1.columns.to_list():\\n    df1[col].plot(kind= 'density')\\n    plt.title(col)\\n    plt.show()\""
      ]
     },
     "execution_count": 17,
     "metadata": {},
     "output_type": "execute_result"
    }
   ],
   "source": [
    "'''for col in df1.columns.to_list():\n",
    "    df1[col].plot(kind= 'density')\n",
    "    plt.title(col)\n",
    "    plt.show()'''"
   ]
  },
  {
   "cell_type": "markdown",
   "id": "3de4a262",
   "metadata": {},
   "source": [
    "### #comment"
   ]
  },
  {
   "cell_type": "code",
   "execution_count": null,
   "id": "dd08ff65",
   "metadata": {},
   "outputs": [],
   "source": []
  },
  {
   "cell_type": "markdown",
   "id": "7b41f986",
   "metadata": {},
   "source": [
    "### Ploting a catplot to see the behaviour of each feature"
   ]
  },
  {
   "cell_type": "code",
   "execution_count": 18,
   "id": "443edc01",
   "metadata": {},
   "outputs": [
    {
     "data": {
      "text/plain": [
       "\"for col in df1.columns.to_list():\\n    sns.catplot(data= df1, x=col, kind = 'count', legend = True , palette ='Dark2', height =7)\\n    plt.show()\""
      ]
     },
     "execution_count": 18,
     "metadata": {},
     "output_type": "execute_result"
    }
   ],
   "source": [
    "\"\"\"for col in df1.columns.to_list():\n",
    "    sns.catplot(data= df1, x=col, kind = 'count', legend = True , palette ='Dark2', height =7)\n",
    "    plt.show()\"\"\""
   ]
  },
  {
   "cell_type": "code",
   "execution_count": 19,
   "id": "ef205327",
   "metadata": {},
   "outputs": [
    {
     "data": {
      "text/plain": [
       "'\"df1.hist(bins=50, figsize=(20,12))\\n    plt.title(col)\\n    plt.show()'"
      ]
     },
     "execution_count": 19,
     "metadata": {},
     "output_type": "execute_result"
    }
   ],
   "source": [
    "\"\"\"\"df1.hist(bins=50, figsize=(20,12))\n",
    "    plt.title(col)\n",
    "    plt.show()\"\"\""
   ]
  },
  {
   "cell_type": "code",
   "execution_count": 20,
   "id": "e067da55",
   "metadata": {},
   "outputs": [
    {
     "data": {
      "text/plain": [
       "\"for col in df1.columns.to_list():\\n    fig1 = sns.FacetGrid(df1 ,hue = 'CLASS', aspect = 5)\\n    fig1.map(sns.kdeplot, col, shade = True)\\n    oldest = df1[col].max()\\n    fig1.set(xlim=(0,oldest))\\n    fig1.add_legend()\""
      ]
     },
     "execution_count": 20,
     "metadata": {},
     "output_type": "execute_result"
    }
   ],
   "source": [
    "'''for col in df1.columns.to_list():\n",
    "    fig1 = sns.FacetGrid(df1 ,hue = 'CLASS', aspect = 5)\n",
    "    fig1.map(sns.kdeplot, col, shade = True)\n",
    "    oldest = df1[col].max()\n",
    "    fig1.set(xlim=(0,oldest))\n",
    "    fig1.add_legend()'''"
   ]
  },
  {
   "cell_type": "code",
   "execution_count": 21,
   "id": "f416f773",
   "metadata": {},
   "outputs": [
    {
     "data": {
      "text/plain": [
       "<seaborn.axisgrid.FacetGrid at 0x228d8ee6640>"
      ]
     },
     "execution_count": 21,
     "metadata": {},
     "output_type": "execute_result"
    },
    {
     "data": {
      "image/png": "[encoded data removed]",
      "text/plain": [
       "<Figure size 401.625x360 with 1 Axes>"
      ]
     },
     "metadata": {},
     "output_type": "display_data"
    }
   ],
   "source": [
    "'''sns.catplot('CLASS',data= df1,hue='Gender',kind = \"count\")'''"
   ]
  },
  {
   "cell_type": "code",
   "execution_count": null,
   "id": "51aaedf9",
   "metadata": {},
   "outputs": [],
   "source": []
  },
  {
   "cell_type": "code",
   "execution_count": null,
   "id": "58ceb029",
   "metadata": {},
   "outputs": [],
   "source": []
  },
  {
   "cell_type": "code",
   "execution_count": null,
   "id": "ceabbe31",
   "metadata": {},
   "outputs": [],
   "source": []
  },
  {
   "cell_type": "code",
   "execution_count": null,
   "id": "745ffd3c",
   "metadata": {},
   "outputs": [],
   "source": []
  },
  {
   "cell_type": "code",
   "execution_count": null,
   "id": "aea45042",
   "metadata": {},
   "outputs": [],
   "source": []
  },
  {
   "cell_type": "code",
   "execution_count": null,
   "id": "e247fefc",
   "metadata": {},
   "outputs": [],
   "source": []
  },
  {
   "cell_type": "code",
   "execution_count": null,
   "id": "7a35a8d6",
   "metadata": {},
   "outputs": [],
   "source": []
  },
  {
   "cell_type": "code",
   "execution_count": null,
   "id": "713deaf0",
   "metadata": {},
   "outputs": [],
   "source": []
  }
 ],
 "metadata": {
  "kernelspec": {
   "display_name": "Python 3 (ipykernel)",
   "language": "python",
   "name": "python3"
  },
  "language_info": {
   "codemirror_mode": {
    "name": "ipython",
    "version": 3
   },
   "file_extension": ".py",
   "mimetype": "text/x-python",
   "name": "python",
   "nbconvert_exporter": "python",
   "pygments_lexer": "ipython3",
   "version": "3.9.12"
  }
 },
 "nbformat": 4,
 "nbformat_minor": 5
}
